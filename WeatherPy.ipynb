{
 "cells": [
  {
   "cell_type": "markdown",
   "metadata": {},
   "source": [
    "# WeatherPy\n",
    "----\n",
    "\n",
    "#### Note\n",
    "* Instructions have been included for each segment. You do not have to follow them exactly, but they are included to help you think through the steps."
   ]
  },
  {
   "cell_type": "code",
   "execution_count": 138,
   "metadata": {},
   "outputs": [],
   "source": [
    "import matplotlib.pyplot as plt\n",
    "import requests\n",
    "import pandas as pd\n",
    "import numpy as np\n",
    "import requests\n",
    "import time\n",
    "from scipy.stats import linregress\n",
    "#import citypy\n",
    "\n",
    "from citipy import citipy\n",
    "\n",
    "\n",
    "\n",
    "import configparser\n",
    "config = configparser.ConfigParser()\n",
    "config.read('config.py')\n",
    "api_key = config['DEFAULT']['api_key']"
   ]
  },
  {
   "cell_type": "code",
   "execution_count": 88,
   "metadata": {
    "scrolled": true
   },
   "outputs": [],
   "source": [
    "# Save config information.\n",
    "url = \"http://api.openweathermap.org/data/2.5/weather?\"\n",
    "units = \"imperial\"\n"
   ]
  },
  {
   "cell_type": "code",
   "execution_count": 110,
   "metadata": {},
   "outputs": [],
   "source": [
    "# Build partial query URL\n",
    "query_url = f\"{url}appid={api_key}&units={units}&q=Lábrea\"\n"
   ]
  },
  {
   "cell_type": "code",
   "execution_count": 111,
   "metadata": {},
   "outputs": [
    {
     "data": {
      "text/plain": [
       "{'coord': {'lon': -64.8, 'lat': -7.26},\n",
       " 'weather': [{'id': 501,\n",
       "   'main': 'Rain',\n",
       "   'description': 'moderate rain',\n",
       "   'icon': '10d'}],\n",
       " 'base': 'stations',\n",
       " 'main': {'temp': 75.6,\n",
       "  'feels_like': 81.75,\n",
       "  'temp_min': 75.6,\n",
       "  'temp_max': 75.6,\n",
       "  'pressure': 1006,\n",
       "  'humidity': 89,\n",
       "  'sea_level': 1006,\n",
       "  'grnd_level': 1000},\n",
       " 'visibility': 10000,\n",
       " 'wind': {'speed': 4.59, 'deg': 277},\n",
       " 'rain': {'1h': 1.7},\n",
       " 'clouds': {'all': 100},\n",
       " 'dt': 1601501336,\n",
       " 'sys': {'country': 'BR', 'sunrise': 1601460242, 'sunset': 1601504031},\n",
       " 'timezone': -14400,\n",
       " 'id': 3663684,\n",
       " 'name': 'Lábrea',\n",
       " 'cod': 200}"
      ]
     },
     "execution_count": 111,
     "metadata": {},
     "output_type": "execute_result"
    }
   ],
   "source": [
    "requests.get(query_url).json()"
   ]
  },
  {
   "cell_type": "markdown",
   "metadata": {},
   "source": [
    "## Generate Cities List"
   ]
  },
  {
   "cell_type": "code",
   "execution_count": 82,
   "metadata": {},
   "outputs": [
    {
     "data": {
      "text/plain": [
       "668"
      ]
     },
     "execution_count": 82,
     "metadata": {},
     "output_type": "execute_result"
    }
   ],
   "source": [
    "#cities = requests.get(query_url).json()\n",
    "#print(json.dumps(cities, indent=4, sort_keys=True))\n",
    "\n",
    "#ranges of lat and long\n",
    "#lat_range = (-90, 90)\n",
    "#long_range = (-180, 80)\n",
    "\n",
    "#list for variables\n",
    "\n",
    "lat_long = []\n",
    "cities = []\n",
    "\n",
    "#random lat long cordinates and ID Cities\n",
    "lat = np.random.uniform(low=-90.0, high=90.0, size=2000)\n",
    "long = np.random.uniform(low=-180.0, high= 80, size = 2000)\n",
    "lat_long = zip(lat, long)\n",
    "\n",
    "for lat_long in lat_long:\n",
    "    city = citipy.nearest_city(lat_long[0], lat_long[1]).city_name\n",
    "    if city not in cities:\n",
    "        cities.append(city)\n",
    "\n",
    "#count cities\n",
    "len(cities)\n",
    "\n"
   ]
  },
  {
   "cell_type": "code",
   "execution_count": 83,
   "metadata": {},
   "outputs": [
    {
     "name": "stdout",
     "output_type": "stream",
     "text": [
      "['labrea', 'rikitea', 'sao borja', 'saint-vallier', 'barrow', 'barreirinha', 'avarua', 'ushuaia', 'riyadh', 'upernavik', 'taolanaro', 'atuona', 'victoria', 'alice town', 'nouadhibou', 'punta arenas', 'port alfred', 'iqaluit', 'mar del plata', 'souillac', 'kodiak', 'yellowknife', 'conceicao do araguaia', 'bambous virieux', 'bay roberts', 'hilo', 'bolungarvik', 'vaini', 'tiarei', 'vila franca do campo', 'mbeya', 'nador', 'nome', 'pontes e lacerda', 'port elizabeth', 'melita', 'cumaribo', 'kapaa', 'pangnirtung', 'georgetown', 'amderma', 'senanga', 'tumannyy', 'palmira', 'luangwa', 'morbegno', 'hermanus', 'alofi', 'lavumisa', 'mahebourg', 'pangoa', 'yarmouth', 'geraldton', 'erseke', 'mataura', 'saldanha', 'galgani', 'cape town', 'puerto ayora', 'hithadhoo', 'buenos aires', 'jamestown', 'tuktoyaktuk', 'tasiilaq', 'provideniya', 'fairbanks', 'sakakah', 'ucluelet', 'viedma', 'qaanaaq', 'kahului', 'vestmannaeyjar', 'mozarlandia', 'sitka', 'araouane', 'huron', 'bonnyville', 'thompson', 'acapulco', 'hihifo', 'mazagao', 'caucaia', 'la asuncion', 'touros', 'vaitupu', 'lagunas', 'port hardy', 'comodoro rivadavia', 'mayor pablo lagerenza', 'luderitz', 'saint george', 'dikson', 'berlevag', 'coari', 'maryville', 'arraial do cabo', 'bathsheba', 'ostrovnoy', 'mys shmidta', 'belushya guba', 'findlay', 'morondava', 'san patricio', 'vlcnov', 'codrington', 'urucara', 'port-cartier', 'barentsburg', 'north las vegas', 'sao joao da barra', 'kailaras', 'longyearbyen', 'pierre', 'insar', 'konotop', 'aksarka', 'oxapampa', 'cap malheureux', 'maceio', 'svecha', 'salalah', 'lebu', 'husavik', 'gamboula', 'castro', 'norman wells', 'santa cruz', 'bredasdorp', 'east london', 'antofagasta', 'marienburg', 'torbay', 'zheleznogorsk', 'cangucu', 'severnoye', 'sarakhs', 'grindavik', 'awbari', 'kassala', 'ukiah', 'domoni', 'canutama', 'rio gallegos', 'nipawin', 'qaqortoq', 'cidreira', 'raahe', 'narsaq', 'talah', 'makakilo city', 'henties bay', 'bud', 'ebeltoft', 'nantucket', 'guerrero negro', 'yenagoa', 'ust-tsilma', 'kalemie', 'klaksvik', 'rivne', 'saint-pierre', 'caravelas', 'constitucion', 'igunga', 'avera', 'pisco', 'egvekinot', 'cabo san lucas', 'puerto escondido', 'hamilton', 'zubtsov', 'chuy', 'ouesso', 'kulhudhuffushi', 'silopi', 'sao filipe', 'kruisfontein', 'umm lajj', 'elbrus', 'honningsvag', 'fonte boa', 'tocopilla', 'marsh harbour', 'lagoa', 'bandipur', 'lavrentiya', 'mongoumba', 'tsihombe', 'san borja', 'koppies', 'ereymentau', 'ambodifototra', 'pasni', 'camacha', 'cayenne', 'greenwood', 'tuggurt', 'bajo baudo', 'tucuman', 'coxim', 'ornskoldsvik', 'sao miguel do araguaia', 'yar-sale', 'sarany', 'konya', 'red wing', 'morro bay', 'bejar', 'sweetwater', 'puerto madryn', 'beaverlodge', 'jutai', 'tucurui', 'nuuk', 'kilindoni', 'ribeira grande', 'lake charles', 'kenai', 'penzance', 'ashland', 'la ronge', 'san cristobal', 'saint-philippe', 'arlit', 'mantua', 'palmer', 'itarema', 'crotone', 'chernyshkovskiy', 'harlingen', 'masallatah', 'grand river south east', 'aakirkeby', 'kalat', 'nanakuli', 'cimitarra', 'bollnas', 'sopron', 'hualmay', 'saleaula', 'kudahuvadhoo', 'attawapiskat', 'lima', 'paamiut', 'kirovskiy', 'garowe', 'wasilla', 'diffa', 'bauchi', 'vardo', 'coquimbo', 'gagnoa', 'clyde river', 'isiro', 'morant bay', 'harper', 'ayios matthaios', 'bani', 'atar', 'maltahohe', 'coihaique', 'nouakchott', 'busselton', 'trinidad', 'qalyub', 'verkhoshizhemye', 'achisay', 'laguna', 'rocha', 'coahuayana', 'san angelo', 'bethel', 'ancud', 'saint-joseph', 'cervo', 'adrar', 'robertsport', 'alberton', 'tautira', 'ambilobe', 'gaziantep', 'illoqqortoormiut', 'fortuna', 'ibra', 'matay', 'porterville', 'stavern', 'garango', 'tukums', 'pervomayskiy', 'sangueya', 'jalalpur pirwala', 'podor', 'macapa', 'umzimvubu', 'takoradi', 'adre', 'boa vista', 'sorvag', 'ponta do sol', 'bell ville', 'jatai', 'faanui', 'homestead', 'clarence town', 'dhidhdhoo', 'skagastrond', 'louisbourg', 'port hawkesbury', 'maldonado', 'sisimiut', 'sataua', 'swellendam', 'mahajanga', 'lahij', 'fort morgan', 'sheridan', 'calama', 'lufilufi', 'mabaruma', 'tutoia', 'bambari', 'nyuksenitsa', 'jibuti', 'evenskjaer', 'hudesti', 'faxinal', 'paris', 'turbat', 'mehamn', 'leh', 'nanortalik', 'morris', 'ndioum', 'wazzan', 'bonfim', 'loandjili', 'fort nelson', 'marathopolis', 'cartagena', 'lompoc', 'sambava', 'jacmel', 'sorland', 'diu', 'sovetskiy', 'carnarvon', 'bargal', 'eirunepe', 'oksfjord', 'nioro', 'acara', 'dalbandin', 'rosetta', 'the valley', 'neiafu', 'haines junction', 'poros', 'fergus falls', 'hay river', 'lac du bonnet', 'rio grande', 'maracaju', 'vila velha', 'hofn', 'jiwani', 'kibala', 'cagliari', 'goderich', 'pangai', 'tokonou', 'cockburn town', 'necochea', 'muisne', 'angoche', 'biltine', 'semirom', 'houston', 'mango', 'tunduru', 'kula', 'sete', 'norwell', 'planeta rica', 'menongue', 'shubarkuduk', 'cozumel', 'sturgis', 'pochutla', 'burica', 'keti bandar', 'mahenge', 'pitimbu', 'marcona', 'lazaro cardenas', 'cutervo', 'middlesbrough', 'cabedelo', 'west memphis', 'kosonsoy', 'kostrzyn', 'sur', 'van', 'lucea', 'frederiksberg', 'margate', 'mayo', 'ilulissat', 'bandarbeyla', 'laredo', 'san juan del sur', 'abadan', 'zhezkazgan', 'hearst', 'jalu', 'matias romero', 'tiznit', 'aklavik', 'matamoros', 'pacasmayo', 'estelle', 'straumen', 'grand gaube', 'andenes', 'unai', 'camapua', 'ixtapa', 'guarapari', 'garissa', 'shelburne', 'karla', 'kurtamysh', 'tazmalt', 'kytlym', 'kizema', 'iquique', 'faya', 'mitu', 'ocampo', 'camana', 'rorvik', 'pungesti', 'tarko-sale', 'gujar khan', 'moquegua', 'atasu', 'sandovo', 'korem', 'sept-iles', 'samana', 'diapaga', 'sena madureira', 'soyo', 'carutapera', 'prescott', 'altea', 'tampere', 'buraydah', 'olafsvik', 'aripuana', 'niteroi', 'iracoubo', 'feldkirchen', 'lake havasu city', 'csany', 'luanda', 'wunsiedel', 'bodden town', 'salvador', 'new port richey', 'tabas', 'troitsko-pechorsk', 'beyla', 'puerto baquerizo moreno', 'quesnel', 'ikongo', 'sinnamary', 'novoagansk', 'oranjemund', 'edea', 'lafayette', 'antalaha', 'gat', 'nizhnyaya omka', 'chicama', 'roberval', 'camden', 'umm kaddadah', 'abu kamal', 'hluti', 'ewa beach', 'storforshei', 'acarau', 'ginda', 'uncia', 'rundu', 'hobyo', 'price', 'kangaba', 'nioki', 'yeletskiy', 'bubaque', 'bazarnyy karabulak', 'kampene', 'himora', 'campechuela', 'birao', 'boali', 'fayetteville', 'ihlow', 'lobito', 'nijar', 'pokhvistnevo', 'kailua', 'imbituba', 'samusu', 'summerville', 'murud', 'mangrol', 'szany', 'south lyon', 'kyshtovka', 'martil', 'saint anthony', 'oranjestad', 'gayny', 'brae', 'chowchilla', 'santa ana', 'mgandu', 'kholm', 'axim', 'kafanchan', 'jimenez', 'los llanos de aridane', 'manakara', 'ayutla', 'damghan', 'hutchinson', 'somerset', 'campbell river', 'skorodnoye', 'groa', 'halifax', 'trindade', 'chiredzi', 'opuwo', 'tamandare', 'sonoita', 'botwood', 'kavaratti', 'beinamar', 'hermosillo', 'marsa matruh', 'anton lizardo', 'awjilah', 'gao', 'alta floresta', 'plettenberg bay', 'eugene', 'yirol', 'zabol', 'namibe', 'abilene', 'tromso', 'marathon', 'san quintin', 'glenwood springs', 'karasjok', 'gatehouse of fleet', 'greece', 'sikasso', 'flin flon', 'tubuala', 'bhag', 'ekibastuz', 'erzincan', 'half moon bay', 'caernarfon', 'trelew', 'taltal', 'ewo', 'buritizeiro', 'porto velho', 'kamina', 'manicore', 'khormuj', 'mezdra', 'bereda', 'synya', 'epiniana', 'brownsville', 'champerico', 'ovre ardal', 'dolbeau', 'monte alegre', 'nurota', 'moyale', 'praia da vitoria', 'fort saint james', 'doha', 'vyartsilya', 'onega', 'uddevalla', 'mandera', 'bouna', 'college', 'paso de carrasco', 'maniitsoq', 'acari', 'yabrud', 'tessalit', 'huazolotitlan', 'veraval', 'aktau', 'setermoen', 'quepos', 'bhuj', 'mishkino', 'semnan', 'salinas', 'lumeje', 'kolindros', 'athabasca', 'sofiyivka', 'kuryk', 'cururupu', 'vestmanna', 'wankaner', 'kaura namoda', 'puerto del rosario', 'geresk', 'esfarayen', 'doctor pedro p. pena', 'bignona', 'adeje', 'irtyshskiy', 'ilam', 'sirjan', 'casper', 'baherden', 'bur gabo', 'manturovo', 'salym', 'kazalinsk', 'fort saint john', 'limuru', 'hammerfest', 'sylvania', 'bibiani', 'lyubim', 'khanpur', 'ferrol', 'talcahuano', 'zverinogolovskoye', 'mendi', 'grand-santi', 'quatre cocos', 'lakota', 'san carlos de bariloche', 'laurel', 'vitorino freire', 'bonavista', 'gdynia', 'mecca', 'cedartown', 'nushki', 'yendi']\n"
     ]
    }
   ],
   "source": [
    "print (cities)"
   ]
  },
  {
   "cell_type": "markdown",
   "metadata": {},
   "source": [
    "### Perform API Calls\n",
    "* Perform a weather check on each city using a series of successive API calls.\n",
    "* Include a print log of each city as it'sbeing processed (with the city number and city name).\n"
   ]
  },
  {
   "cell_type": "code",
   "execution_count": 124,
   "metadata": {
    "scrolled": true
   },
   "outputs": [
    {
     "name": "stdout",
     "output_type": "stream",
     "text": [
      "Processing Record for | labrea.\n",
      "Processing Record for | rikitea.\n",
      "Processing Record for | sao borja.\n",
      "Processing Record for | saint-vallier.\n",
      "Processing Record for | barrow.\n",
      "Processing Record for | barreirinha.\n",
      "Processing Record for | avarua.\n",
      "Processing Record for | ushuaia.\n",
      "Processing Record for | riyadh.\n",
      "Processing Record for | upernavik.\n",
      "Processing Record for | taolanaro.\n",
      "City not found. Skipping...\n",
      "Processing Record for | atuona.\n",
      "Processing Record for | victoria.\n",
      "Processing Record for | alice town.\n",
      "Processing Record for | nouadhibou.\n",
      "Processing Record for | punta arenas.\n",
      "Processing Record for | port alfred.\n",
      "Processing Record for | iqaluit.\n",
      "Processing Record for | mar del plata.\n",
      "Processing Record for | souillac.\n",
      "Processing Record for | kodiak.\n",
      "Processing Record for | yellowknife.\n",
      "Processing Record for | conceicao do araguaia.\n",
      "Processing Record for | bambous virieux.\n",
      "Processing Record for | bay roberts.\n",
      "Processing Record for | hilo.\n",
      "Processing Record for | bolungarvik.\n",
      "City not found. Skipping...\n",
      "Processing Record for | vaini.\n",
      "Processing Record for | tiarei.\n",
      "Processing Record for | vila franca do campo.\n",
      "Processing Record for | mbeya.\n",
      "Processing Record for | nador.\n",
      "Processing Record for | nome.\n",
      "Processing Record for | pontes e lacerda.\n",
      "Processing Record for | port elizabeth.\n",
      "Processing Record for | melita.\n",
      "Processing Record for | cumaribo.\n",
      "City not found. Skipping...\n",
      "Processing Record for | kapaa.\n",
      "Processing Record for | pangnirtung.\n",
      "Processing Record for | georgetown.\n",
      "Processing Record for | amderma.\n",
      "City not found. Skipping...\n",
      "Processing Record for | senanga.\n",
      "Processing Record for | tumannyy.\n",
      "City not found. Skipping...\n",
      "Processing Record for | palmira.\n",
      "Processing Record for | luangwa.\n",
      "Processing Record for | morbegno.\n",
      "Processing Record for | hermanus.\n",
      "Processing Record for | alofi.\n",
      "Processing Record for | lavumisa.\n",
      "Processing Record for | mahebourg.\n",
      "Processing Record for | pangoa.\n",
      "Processing Record for | yarmouth.\n",
      "Processing Record for | geraldton.\n",
      "Processing Record for | erseke.\n",
      "Processing Record for | mataura.\n",
      "Processing Record for | saldanha.\n",
      "Processing Record for | galgani.\n",
      "City not found. Skipping...\n",
      "Processing Record for | cape town.\n",
      "Processing Record for | puerto ayora.\n",
      "Processing Record for | hithadhoo.\n",
      "Processing Record for | buenos aires.\n",
      "Processing Record for | jamestown.\n",
      "Processing Record for | tuktoyaktuk.\n",
      "Processing Record for | tasiilaq.\n",
      "Processing Record for | provideniya.\n",
      "Processing Record for | fairbanks.\n",
      "Processing Record for | sakakah.\n",
      "Processing Record for | ucluelet.\n",
      "Processing Record for | viedma.\n",
      "Processing Record for | qaanaaq.\n",
      "Processing Record for | kahului.\n",
      "Processing Record for | vestmannaeyjar.\n",
      "Processing Record for | mozarlandia.\n",
      "Processing Record for | sitka.\n",
      "Processing Record for | araouane.\n",
      "Processing Record for | huron.\n",
      "Processing Record for | bonnyville.\n",
      "Processing Record for | thompson.\n",
      "Processing Record for | acapulco.\n",
      "Processing Record for | hihifo.\n",
      "City not found. Skipping...\n",
      "Processing Record for | mazagao.\n",
      "Processing Record for | caucaia.\n",
      "Processing Record for | la asuncion.\n",
      "Processing Record for | touros.\n",
      "Processing Record for | vaitupu.\n",
      "City not found. Skipping...\n",
      "Processing Record for | lagunas.\n",
      "Processing Record for | port hardy.\n",
      "Processing Record for | comodoro rivadavia.\n",
      "Processing Record for | mayor pablo lagerenza.\n",
      "Processing Record for | luderitz.\n",
      "Processing Record for | saint george.\n",
      "Processing Record for | dikson.\n",
      "Processing Record for | berlevag.\n",
      "Processing Record for | coari.\n",
      "Processing Record for | maryville.\n",
      "Processing Record for | arraial do cabo.\n",
      "Processing Record for | bathsheba.\n",
      "Processing Record for | ostrovnoy.\n",
      "Processing Record for | mys shmidta.\n",
      "City not found. Skipping...\n",
      "Processing Record for | belushya guba.\n",
      "City not found. Skipping...\n",
      "Processing Record for | findlay.\n",
      "Processing Record for | morondava.\n",
      "Processing Record for | san patricio.\n",
      "Processing Record for | vlcnov.\n",
      "Processing Record for | codrington.\n",
      "Processing Record for | urucara.\n",
      "Processing Record for | port-cartier.\n",
      "Processing Record for | barentsburg.\n",
      "City not found. Skipping...\n",
      "Processing Record for | north las vegas.\n",
      "Processing Record for | sao joao da barra.\n",
      "Processing Record for | kailaras.\n",
      "Processing Record for | longyearbyen.\n",
      "Processing Record for | pierre.\n",
      "Processing Record for | insar.\n",
      "Processing Record for | konotop.\n",
      "Processing Record for | aksarka.\n",
      "Processing Record for | oxapampa.\n",
      "Processing Record for | cap malheureux.\n",
      "Processing Record for | maceio.\n",
      "Processing Record for | svecha.\n",
      "Processing Record for | salalah.\n",
      "Processing Record for | lebu.\n",
      "Processing Record for | husavik.\n",
      "Processing Record for | gamboula.\n",
      "Processing Record for | castro.\n",
      "Processing Record for | norman wells.\n",
      "Processing Record for | santa cruz.\n",
      "Processing Record for | bredasdorp.\n",
      "Processing Record for | east london.\n",
      "Processing Record for | antofagasta.\n",
      "Processing Record for | marienburg.\n",
      "Processing Record for | torbay.\n",
      "Processing Record for | zheleznogorsk.\n",
      "Processing Record for | cangucu.\n",
      "Processing Record for | severnoye.\n",
      "Processing Record for | sarakhs.\n",
      "Processing Record for | grindavik.\n",
      "Processing Record for | awbari.\n",
      "Processing Record for | kassala.\n",
      "Processing Record for | ukiah.\n",
      "Processing Record for | domoni.\n",
      "Processing Record for | canutama.\n",
      "Processing Record for | rio gallegos.\n",
      "Processing Record for | nipawin.\n",
      "Processing Record for | qaqortoq.\n",
      "Processing Record for | cidreira.\n",
      "Processing Record for | raahe.\n",
      "Processing Record for | narsaq.\n",
      "Processing Record for | talah.\n",
      "City not found. Skipping...\n",
      "Processing Record for | makakilo city.\n",
      "Processing Record for | henties bay.\n",
      "Processing Record for | bud.\n",
      "Processing Record for | ebeltoft.\n",
      "Processing Record for | nantucket.\n",
      "Processing Record for | guerrero negro.\n",
      "Processing Record for | yenagoa.\n",
      "Processing Record for | ust-tsilma.\n",
      "Processing Record for | kalemie.\n",
      "Processing Record for | klaksvik.\n",
      "Processing Record for | rivne.\n",
      "Processing Record for | saint-pierre.\n",
      "Processing Record for | caravelas.\n",
      "Processing Record for | constitucion.\n",
      "Processing Record for | igunga.\n",
      "Processing Record for | avera.\n",
      "Processing Record for | pisco.\n",
      "Processing Record for | egvekinot.\n",
      "Processing Record for | cabo san lucas.\n",
      "Processing Record for | puerto escondido.\n",
      "Processing Record for | hamilton.\n",
      "Processing Record for | zubtsov.\n",
      "Processing Record for | chuy.\n",
      "Processing Record for | ouesso.\n",
      "Processing Record for | kulhudhuffushi.\n",
      "Processing Record for | silopi.\n",
      "Processing Record for | sao filipe.\n",
      "Processing Record for | kruisfontein.\n",
      "Processing Record for | umm lajj.\n",
      "Processing Record for | elbrus.\n",
      "Processing Record for | honningsvag.\n",
      "Processing Record for | fonte boa.\n",
      "Processing Record for | tocopilla.\n",
      "Processing Record for | marsh harbour.\n",
      "Processing Record for | lagoa.\n",
      "Processing Record for | bandipur.\n",
      "Processing Record for | lavrentiya.\n",
      "Processing Record for | mongoumba.\n",
      "Processing Record for | tsihombe.\n",
      "City not found. Skipping...\n",
      "Processing Record for | san borja.\n",
      "Processing Record for | koppies.\n",
      "Processing Record for | ereymentau.\n",
      "Processing Record for | ambodifototra.\n",
      "City not found. Skipping...\n",
      "Processing Record for | pasni.\n",
      "Processing Record for | camacha.\n",
      "Processing Record for | cayenne.\n",
      "Processing Record for | greenwood.\n",
      "Processing Record for | tuggurt.\n",
      "City not found. Skipping...\n",
      "Processing Record for | bajo baudo.\n",
      "City not found. Skipping...\n",
      "Processing Record for | tucuman.\n",
      "Processing Record for | coxim.\n",
      "Processing Record for | ornskoldsvik.\n",
      "Processing Record for | sao miguel do araguaia.\n",
      "Processing Record for | yar-sale.\n",
      "Processing Record for | sarany.\n",
      "Processing Record for | konya.\n",
      "Processing Record for | red wing.\n",
      "Processing Record for | morro bay.\n",
      "Processing Record for | bejar.\n",
      "Processing Record for | sweetwater.\n",
      "Processing Record for | puerto madryn.\n",
      "Processing Record for | beaverlodge.\n",
      "Processing Record for | jutai.\n",
      "Processing Record for | tucurui.\n",
      "Processing Record for | nuuk.\n",
      "Processing Record for | kilindoni.\n",
      "Processing Record for | ribeira grande.\n",
      "Processing Record for | lake charles.\n",
      "Processing Record for | kenai.\n",
      "Processing Record for | penzance.\n",
      "Processing Record for | ashland.\n",
      "Processing Record for | la ronge.\n",
      "Processing Record for | san cristobal.\n",
      "Processing Record for | saint-philippe.\n"
     ]
    },
    {
     "name": "stdout",
     "output_type": "stream",
     "text": [
      "Processing Record for | arlit.\n",
      "Processing Record for | mantua.\n",
      "Processing Record for | palmer.\n",
      "Processing Record for | itarema.\n",
      "Processing Record for | crotone.\n",
      "Processing Record for | chernyshkovskiy.\n",
      "Processing Record for | harlingen.\n",
      "Processing Record for | masallatah.\n",
      "Processing Record for | grand river south east.\n",
      "City not found. Skipping...\n",
      "Processing Record for | aakirkeby.\n",
      "City not found. Skipping...\n",
      "Processing Record for | kalat.\n",
      "Processing Record for | nanakuli.\n",
      "Processing Record for | cimitarra.\n",
      "Processing Record for | bollnas.\n",
      "Processing Record for | sopron.\n",
      "Processing Record for | hualmay.\n",
      "Processing Record for | saleaula.\n",
      "City not found. Skipping...\n",
      "Processing Record for | kudahuvadhoo.\n",
      "Processing Record for | attawapiskat.\n",
      "City not found. Skipping...\n",
      "Processing Record for | lima.\n",
      "Processing Record for | paamiut.\n",
      "Processing Record for | kirovskiy.\n",
      "Processing Record for | garowe.\n",
      "Processing Record for | wasilla.\n",
      "Processing Record for | diffa.\n",
      "Processing Record for | bauchi.\n",
      "Processing Record for | vardo.\n",
      "Processing Record for | coquimbo.\n",
      "Processing Record for | gagnoa.\n",
      "Processing Record for | clyde river.\n",
      "Processing Record for | isiro.\n",
      "Processing Record for | morant bay.\n",
      "Processing Record for | harper.\n",
      "Processing Record for | ayios matthaios.\n",
      "City not found. Skipping...\n",
      "Processing Record for | bani.\n",
      "Processing Record for | atar.\n",
      "Processing Record for | maltahohe.\n",
      "Processing Record for | coihaique.\n",
      "Processing Record for | nouakchott.\n",
      "Processing Record for | busselton.\n",
      "Processing Record for | trinidad.\n",
      "Processing Record for | qalyub.\n",
      "Processing Record for | verkhoshizhemye.\n",
      "Processing Record for | achisay.\n",
      "City not found. Skipping...\n",
      "Processing Record for | laguna.\n",
      "Processing Record for | rocha.\n",
      "Processing Record for | coahuayana.\n",
      "Processing Record for | san angelo.\n",
      "Processing Record for | bethel.\n",
      "Processing Record for | ancud.\n",
      "Processing Record for | saint-joseph.\n",
      "Processing Record for | cervo.\n",
      "Processing Record for | adrar.\n",
      "Processing Record for | robertsport.\n",
      "Processing Record for | alberton.\n",
      "Processing Record for | tautira.\n",
      "Processing Record for | ambilobe.\n",
      "Processing Record for | gaziantep.\n",
      "Processing Record for | illoqqortoormiut.\n",
      "City not found. Skipping...\n",
      "Processing Record for | fortuna.\n",
      "Processing Record for | ibra.\n",
      "Processing Record for | matay.\n",
      "Processing Record for | porterville.\n",
      "Processing Record for | stavern.\n",
      "Processing Record for | garango.\n",
      "Processing Record for | tukums.\n",
      "Processing Record for | pervomayskiy.\n",
      "Processing Record for | sangueya.\n",
      "Processing Record for | jalalpur pirwala.\n",
      "Processing Record for | podor.\n",
      "Processing Record for | macapa.\n",
      "Processing Record for | umzimvubu.\n",
      "City not found. Skipping...\n",
      "Processing Record for | takoradi.\n",
      "Processing Record for | adre.\n",
      "Processing Record for | boa vista.\n",
      "Processing Record for | sorvag.\n",
      "City not found. Skipping...\n",
      "Processing Record for | ponta do sol.\n",
      "Processing Record for | bell ville.\n",
      "Processing Record for | jatai.\n",
      "Processing Record for | faanui.\n",
      "Processing Record for | homestead.\n",
      "Processing Record for | clarence town.\n",
      "Processing Record for | dhidhdhoo.\n",
      "Processing Record for | skagastrond.\n",
      "City not found. Skipping...\n",
      "Processing Record for | louisbourg.\n",
      "City not found. Skipping...\n",
      "Processing Record for | port hawkesbury.\n",
      "Processing Record for | maldonado.\n",
      "Processing Record for | sisimiut.\n",
      "Processing Record for | sataua.\n",
      "City not found. Skipping...\n",
      "Processing Record for | swellendam.\n",
      "Processing Record for | mahajanga.\n",
      "Processing Record for | lahij.\n",
      "Processing Record for | fort morgan.\n",
      "Processing Record for | sheridan.\n",
      "Processing Record for | calama.\n",
      "Processing Record for | lufilufi.\n",
      "Processing Record for | mabaruma.\n",
      "Processing Record for | tutoia.\n",
      "Processing Record for | bambari.\n",
      "Processing Record for | nyuksenitsa.\n",
      "Processing Record for | jibuti.\n",
      "Processing Record for | evenskjaer.\n",
      "City not found. Skipping...\n",
      "Processing Record for | hudesti.\n",
      "Processing Record for | faxinal.\n",
      "Processing Record for | paris.\n",
      "Processing Record for | turbat.\n",
      "Processing Record for | mehamn.\n",
      "Processing Record for | leh.\n",
      "Processing Record for | nanortalik.\n",
      "Processing Record for | morris.\n",
      "Processing Record for | ndioum.\n",
      "Processing Record for | wazzan.\n",
      "City not found. Skipping...\n",
      "Processing Record for | bonfim.\n",
      "Processing Record for | loandjili.\n",
      "Processing Record for | fort nelson.\n",
      "Processing Record for | marathopolis.\n",
      "City not found. Skipping...\n",
      "Processing Record for | cartagena.\n",
      "Processing Record for | lompoc.\n",
      "Processing Record for | sambava.\n",
      "Processing Record for | jacmel.\n",
      "Processing Record for | sorland.\n",
      "Processing Record for | diu.\n",
      "Processing Record for | sovetskiy.\n",
      "Processing Record for | carnarvon.\n",
      "Processing Record for | bargal.\n",
      "City not found. Skipping...\n",
      "Processing Record for | eirunepe.\n",
      "Processing Record for | oksfjord.\n",
      "Processing Record for | nioro.\n",
      "Processing Record for | acara.\n",
      "Processing Record for | dalbandin.\n",
      "Processing Record for | rosetta.\n",
      "Processing Record for | the valley.\n",
      "Processing Record for | neiafu.\n",
      "Processing Record for | haines junction.\n",
      "Processing Record for | poros.\n",
      "Processing Record for | fergus falls.\n",
      "Processing Record for | hay river.\n",
      "Processing Record for | lac du bonnet.\n",
      "Processing Record for | rio grande.\n",
      "Processing Record for | maracaju.\n",
      "Processing Record for | vila velha.\n",
      "Processing Record for | hofn.\n",
      "Processing Record for | jiwani.\n",
      "Processing Record for | kibala.\n",
      "Processing Record for | cagliari.\n",
      "Processing Record for | goderich.\n",
      "Processing Record for | pangai.\n",
      "Processing Record for | tokonou.\n",
      "Processing Record for | cockburn town.\n",
      "Processing Record for | necochea.\n",
      "Processing Record for | muisne.\n",
      "Processing Record for | angoche.\n",
      "Processing Record for | biltine.\n",
      "Processing Record for | semirom.\n",
      "Processing Record for | houston.\n",
      "Processing Record for | mango.\n",
      "Processing Record for | tunduru.\n",
      "City not found. Skipping...\n",
      "Processing Record for | kula.\n",
      "Processing Record for | sete.\n",
      "Processing Record for | norwell.\n",
      "Processing Record for | planeta rica.\n",
      "Processing Record for | menongue.\n",
      "Processing Record for | shubarkuduk.\n",
      "Processing Record for | cozumel.\n",
      "Processing Record for | sturgis.\n",
      "Processing Record for | pochutla.\n",
      "Processing Record for | burica.\n",
      "City not found. Skipping...\n",
      "Processing Record for | keti bandar.\n",
      "Processing Record for | mahenge.\n",
      "Processing Record for | pitimbu.\n",
      "Processing Record for | marcona.\n",
      "City not found. Skipping...\n",
      "Processing Record for | lazaro cardenas.\n",
      "Processing Record for | cutervo.\n",
      "Processing Record for | middlesbrough.\n",
      "Processing Record for | cabedelo.\n",
      "Processing Record for | west memphis.\n",
      "Processing Record for | kosonsoy.\n",
      "Processing Record for | kostrzyn.\n",
      "Processing Record for | sur.\n",
      "Processing Record for | van.\n",
      "Processing Record for | lucea.\n",
      "Processing Record for | frederiksberg.\n",
      "Processing Record for | margate.\n",
      "Processing Record for | mayo.\n",
      "Processing Record for | ilulissat.\n",
      "Processing Record for | bandarbeyla.\n",
      "Processing Record for | laredo.\n",
      "Processing Record for | san juan del sur.\n",
      "Processing Record for | abadan.\n",
      "Processing Record for | zhezkazgan.\n",
      "Processing Record for | hearst.\n",
      "Processing Record for | jalu.\n",
      "Processing Record for | matias romero.\n",
      "Processing Record for | tiznit.\n",
      "Processing Record for | aklavik.\n",
      "Processing Record for | matamoros.\n",
      "Processing Record for | pacasmayo.\n",
      "Processing Record for | estelle.\n",
      "Processing Record for | straumen.\n",
      "Processing Record for | grand gaube.\n",
      "Processing Record for | andenes.\n",
      "Processing Record for | unai.\n",
      "Processing Record for | camapua.\n",
      "Processing Record for | ixtapa.\n",
      "Processing Record for | guarapari.\n",
      "Processing Record for | garissa.\n",
      "Processing Record for | shelburne.\n",
      "Processing Record for | karla.\n",
      "Processing Record for | kurtamysh.\n",
      "Processing Record for | tazmalt.\n",
      "Processing Record for | kytlym.\n",
      "City not found. Skipping...\n",
      "Processing Record for | kizema.\n",
      "Processing Record for | iquique.\n",
      "Processing Record for | faya.\n",
      "Processing Record for | mitu.\n",
      "Processing Record for | ocampo.\n",
      "Processing Record for | camana.\n",
      "Processing Record for | rorvik.\n",
      "Processing Record for | pungesti.\n",
      "Processing Record for | tarko-sale.\n",
      "Processing Record for | gujar khan.\n",
      "Processing Record for | moquegua.\n",
      "Processing Record for | atasu.\n",
      "Processing Record for | sandovo.\n",
      "Processing Record for | korem.\n",
      "Processing Record for | sept-iles.\n"
     ]
    },
    {
     "name": "stdout",
     "output_type": "stream",
     "text": [
      "Processing Record for | samana.\n",
      "Processing Record for | diapaga.\n",
      "Processing Record for | sena madureira.\n",
      "Processing Record for | soyo.\n",
      "Processing Record for | carutapera.\n",
      "Processing Record for | prescott.\n",
      "Processing Record for | altea.\n",
      "Processing Record for | tampere.\n",
      "Processing Record for | buraydah.\n",
      "Processing Record for | olafsvik.\n",
      "Processing Record for | aripuana.\n",
      "Processing Record for | niteroi.\n",
      "Processing Record for | iracoubo.\n",
      "Processing Record for | feldkirchen.\n",
      "Processing Record for | lake havasu city.\n",
      "Processing Record for | csany.\n",
      "Processing Record for | luanda.\n",
      "Processing Record for | wunsiedel.\n",
      "Processing Record for | bodden town.\n",
      "Processing Record for | salvador.\n",
      "Processing Record for | new port richey.\n",
      "Processing Record for | tabas.\n",
      "Processing Record for | troitsko-pechorsk.\n",
      "Processing Record for | beyla.\n",
      "Processing Record for | puerto baquerizo moreno.\n",
      "Processing Record for | quesnel.\n",
      "Processing Record for | ikongo.\n",
      "Processing Record for | sinnamary.\n",
      "Processing Record for | novoagansk.\n",
      "Processing Record for | oranjemund.\n",
      "Processing Record for | edea.\n",
      "Processing Record for | lafayette.\n",
      "Processing Record for | antalaha.\n",
      "Processing Record for | gat.\n",
      "Processing Record for | nizhnyaya omka.\n",
      "Processing Record for | chicama.\n",
      "Processing Record for | roberval.\n",
      "Processing Record for | camden.\n",
      "Processing Record for | umm kaddadah.\n",
      "Processing Record for | abu kamal.\n",
      "Processing Record for | hluti.\n",
      "Processing Record for | ewa beach.\n",
      "Processing Record for | storforshei.\n",
      "Processing Record for | acarau.\n",
      "Processing Record for | ginda.\n",
      "Processing Record for | uncia.\n",
      "Processing Record for | rundu.\n",
      "Processing Record for | hobyo.\n",
      "Processing Record for | price.\n",
      "Processing Record for | kangaba.\n",
      "Processing Record for | nioki.\n",
      "Processing Record for | yeletskiy.\n",
      "City not found. Skipping...\n",
      "Processing Record for | bubaque.\n",
      "Processing Record for | bazarnyy karabulak.\n",
      "Processing Record for | kampene.\n",
      "Processing Record for | himora.\n",
      "City not found. Skipping...\n",
      "Processing Record for | campechuela.\n",
      "Processing Record for | birao.\n",
      "Processing Record for | boali.\n",
      "Processing Record for | fayetteville.\n",
      "Processing Record for | ihlow.\n",
      "Processing Record for | lobito.\n",
      "Processing Record for | nijar.\n",
      "Processing Record for | pokhvistnevo.\n",
      "Processing Record for | kailua.\n",
      "Processing Record for | imbituba.\n",
      "Processing Record for | samusu.\n",
      "City not found. Skipping...\n",
      "Processing Record for | summerville.\n",
      "Processing Record for | murud.\n",
      "Processing Record for | mangrol.\n",
      "Processing Record for | szany.\n",
      "Processing Record for | south lyon.\n",
      "Processing Record for | kyshtovka.\n",
      "Processing Record for | martil.\n",
      "Processing Record for | saint anthony.\n",
      "Processing Record for | oranjestad.\n",
      "Processing Record for | gayny.\n",
      "Processing Record for | brae.\n",
      "Processing Record for | chowchilla.\n",
      "Processing Record for | santa ana.\n",
      "Processing Record for | mgandu.\n",
      "Processing Record for | kholm.\n",
      "Processing Record for | axim.\n",
      "Processing Record for | kafanchan.\n",
      "Processing Record for | jimenez.\n",
      "Processing Record for | los llanos de aridane.\n",
      "Processing Record for | manakara.\n",
      "Processing Record for | ayutla.\n",
      "Processing Record for | damghan.\n",
      "Processing Record for | hutchinson.\n",
      "Processing Record for | somerset.\n",
      "Processing Record for | campbell river.\n",
      "Processing Record for | skorodnoye.\n",
      "Processing Record for | groa.\n",
      "Processing Record for | halifax.\n",
      "Processing Record for | trindade.\n",
      "Processing Record for | chiredzi.\n",
      "Processing Record for | opuwo.\n",
      "Processing Record for | tamandare.\n",
      "Processing Record for | sonoita.\n",
      "Processing Record for | botwood.\n",
      "Processing Record for | kavaratti.\n",
      "Processing Record for | beinamar.\n",
      "Processing Record for | hermosillo.\n",
      "Processing Record for | marsa matruh.\n",
      "Processing Record for | anton lizardo.\n",
      "Processing Record for | awjilah.\n",
      "Processing Record for | gao.\n",
      "Processing Record for | alta floresta.\n",
      "Processing Record for | plettenberg bay.\n",
      "Processing Record for | eugene.\n",
      "Processing Record for | yirol.\n",
      "City not found. Skipping...\n",
      "Processing Record for | zabol.\n",
      "Processing Record for | namibe.\n",
      "Processing Record for | abilene.\n",
      "Processing Record for | tromso.\n",
      "Processing Record for | marathon.\n",
      "Processing Record for | san quintin.\n",
      "Processing Record for | glenwood springs.\n",
      "Processing Record for | karasjok.\n",
      "Processing Record for | gatehouse of fleet.\n",
      "Processing Record for | greece.\n",
      "Processing Record for | sikasso.\n",
      "Processing Record for | flin flon.\n",
      "Processing Record for | tubuala.\n",
      "Processing Record for | bhag.\n",
      "Processing Record for | ekibastuz.\n",
      "Processing Record for | erzincan.\n",
      "Processing Record for | half moon bay.\n",
      "Processing Record for | caernarfon.\n",
      "Processing Record for | trelew.\n",
      "Processing Record for | taltal.\n",
      "Processing Record for | ewo.\n",
      "Processing Record for | buritizeiro.\n",
      "Processing Record for | porto velho.\n",
      "Processing Record for | kamina.\n",
      "Processing Record for | manicore.\n",
      "Processing Record for | khormuj.\n",
      "City not found. Skipping...\n",
      "Processing Record for | mezdra.\n",
      "Processing Record for | bereda.\n",
      "Processing Record for | synya.\n",
      "Processing Record for | epiniana.\n",
      "Processing Record for | brownsville.\n",
      "Processing Record for | champerico.\n",
      "Processing Record for | ovre ardal.\n",
      "Processing Record for | dolbeau.\n",
      "City not found. Skipping...\n",
      "Processing Record for | monte alegre.\n",
      "Processing Record for | nurota.\n",
      "Processing Record for | moyale.\n",
      "Processing Record for | praia da vitoria.\n",
      "Processing Record for | fort saint james.\n",
      "Processing Record for | doha.\n",
      "Processing Record for | vyartsilya.\n",
      "Processing Record for | onega.\n",
      "Processing Record for | uddevalla.\n",
      "Processing Record for | mandera.\n",
      "Processing Record for | bouna.\n",
      "Processing Record for | college.\n",
      "Processing Record for | paso de carrasco.\n",
      "Processing Record for | maniitsoq.\n",
      "Processing Record for | acari.\n",
      "Processing Record for | yabrud.\n",
      "Processing Record for | tessalit.\n",
      "Processing Record for | huazolotitlan.\n",
      "City not found. Skipping...\n",
      "Processing Record for | veraval.\n",
      "Processing Record for | aktau.\n",
      "Processing Record for | setermoen.\n",
      "Processing Record for | quepos.\n",
      "Processing Record for | bhuj.\n",
      "Processing Record for | mishkino.\n",
      "Processing Record for | semnan.\n",
      "Processing Record for | salinas.\n",
      "Processing Record for | lumeje.\n",
      "Processing Record for | kolindros.\n",
      "Processing Record for | athabasca.\n",
      "Processing Record for | sofiyivka.\n",
      "Processing Record for | kuryk.\n",
      "Processing Record for | cururupu.\n",
      "Processing Record for | vestmanna.\n",
      "Processing Record for | wankaner.\n",
      "Processing Record for | kaura namoda.\n",
      "Processing Record for | puerto del rosario.\n",
      "Processing Record for | geresk.\n",
      "City not found. Skipping...\n",
      "Processing Record for | esfarayen.\n",
      "Processing Record for | doctor pedro p. pena.\n",
      "City not found. Skipping...\n",
      "Processing Record for | bignona.\n",
      "Processing Record for | adeje.\n",
      "Processing Record for | irtyshskiy.\n",
      "Processing Record for | ilam.\n",
      "Processing Record for | sirjan.\n",
      "Processing Record for | casper.\n",
      "Processing Record for | baherden.\n",
      "Processing Record for | bur gabo.\n",
      "City not found. Skipping...\n",
      "Processing Record for | manturovo.\n",
      "Processing Record for | salym.\n",
      "Processing Record for | kazalinsk.\n",
      "City not found. Skipping...\n",
      "Processing Record for | fort saint john.\n",
      "City not found. Skipping...\n",
      "Processing Record for | limuru.\n",
      "Processing Record for | hammerfest.\n",
      "Processing Record for | sylvania.\n",
      "Processing Record for | bibiani.\n",
      "Processing Record for | lyubim.\n",
      "Processing Record for | khanpur.\n",
      "Processing Record for | ferrol.\n",
      "Processing Record for | talcahuano.\n",
      "Processing Record for | zverinogolovskoye.\n",
      "Processing Record for | mendi.\n",
      "Processing Record for | grand-santi.\n",
      "Processing Record for | quatre cocos.\n",
      "Processing Record for | lakota.\n",
      "Processing Record for | san carlos de bariloche.\n",
      "Processing Record for | laurel.\n",
      "Processing Record for | vitorino freire.\n",
      "Processing Record for | bonavista.\n",
      "Processing Record for | gdynia.\n",
      "Processing Record for | mecca.\n",
      "Processing Record for | cedartown.\n",
      "Processing Record for | nushki.\n",
      "Processing Record for | yendi.\n"
     ]
    }
   ],
   "source": [
    "\n",
    "\n",
    "\n",
    "# for city in cities:\n",
    "#         city_url= query_url + city\n",
    "#         print(\"Processing Record {count} | \" + city)\n",
    "                \n",
    "#         try: \n",
    "#             city_var= requests.get(city_url).json()\n",
    "#             city_data.append({\"City\": city,\n",
    "#                               \"Lat\": city_var[\"coord\"][\"lat\"],\n",
    "#                               \"Long\": city_var[\"coord\"][\"lon\"],\n",
    "#                               \"Date\": city_var[\"dt\"],\n",
    "#                               \"Cloudiness\": city_var[\"clouds\"][\"all\"],\n",
    "#                               \"Humidity\" : city_var[\"main\"][\"humidity\"],\n",
    "#                               \"Max Temp\": city_var[\"main\"][\"temp_max\"],\n",
    "#                               \"Wind Speed\" : city_var[\"wind\"][\"speed\"],\n",
    "#                               \"Country\" : city_var[\"sys\"][\"country\"]})\n",
    "#         except:\n",
    "#             print(\"City not found. Skipping...\")\n",
    "\n",
    "#DF for city info\n",
    "cities_df = pd.DataFrame({\"City\": cities})\n",
    "cities_df['Date'] = ''\n",
    "cities_df['Cloudiness'] = ''\n",
    "cities_df['Humidity'] = ''\n",
    "cities_df['Country'] = ''\n",
    "cities_df['Lat'] = ''\n",
    "cities_df['Long'] = ''\n",
    "cities_df['Max Temp'] = ''\n",
    "cities_df['Wind Speed'] = ''\n",
    "\n",
    "city_list =[]\n",
    "cloudiness = []\n",
    "country = []\n",
    "date = []\n",
    "humidity = []\n",
    "lat = []\n",
    "long = []\n",
    "max_temp = []\n",
    "wind_speed = []\n",
    "\n",
    "\n",
    "for city in cities:    \n",
    "        # assemble url and make API request\n",
    "        print(f\"Processing Record for | {city}.\")\n",
    "       \n",
    "        \n",
    "        target_url = (\"http://api.openweathermap.org/data/2.5/weather?\"\n",
    "                      'appid={0}&q={1}').format(api_key,city)\n",
    "        try:\n",
    "            # extract results\n",
    "            response = requests.get(target_url).json()\n",
    "            \n",
    "            # add the city info to the lists             \n",
    "            city_list.append(response['name'])\n",
    "            cloudiness.append(response['clouds']['all'])\n",
    "            country.append(response['sys']['country'])\n",
    "            date.append(response['dt'])\n",
    "            humidity.append(response['main']['humidity'])\n",
    "            lat.append(response['coord']['lat'])\n",
    "            long.append(response['coord']['lon'])\n",
    "            max_temp.append(response['main']['temp_max'])\n",
    "            wind_speed.append(response['wind']['speed'])\n",
    "            \n",
    "        except:\n",
    "            print(\"City not found. Skipping...\")\n",
    "\n",
    "\n",
    "\n",
    "\n",
    "\n",
    "\n",
    "\n",
    "\n",
    "\n",
    "\n",
    "\n",
    "\n"
   ]
  },
  {
   "cell_type": "markdown",
   "metadata": {},
   "source": [
    "### Convert Raw Data to DataFrame\n",
    "* Export the city data into a .csv.\n",
    "* Display the DataFrame"
   ]
  },
  {
   "cell_type": "code",
   "execution_count": 126,
   "metadata": {},
   "outputs": [
    {
     "data": {
      "text/html": [
       "<div>\n",
       "<style scoped>\n",
       "    .dataframe tbody tr th:only-of-type {\n",
       "        vertical-align: middle;\n",
       "    }\n",
       "\n",
       "    .dataframe tbody tr th {\n",
       "        vertical-align: top;\n",
       "    }\n",
       "\n",
       "    .dataframe thead th {\n",
       "        text-align: right;\n",
       "    }\n",
       "</style>\n",
       "<table border=\"1\" class=\"dataframe\">\n",
       "  <thead>\n",
       "    <tr style=\"text-align: right;\">\n",
       "      <th></th>\n",
       "      <th>City</th>\n",
       "      <th>Cloudiness</th>\n",
       "      <th>Country</th>\n",
       "      <th>Date</th>\n",
       "      <th>Humidity</th>\n",
       "      <th>Lat</th>\n",
       "      <th>Long</th>\n",
       "      <th>Max Temp</th>\n",
       "      <th>Wind Speed</th>\n",
       "    </tr>\n",
       "  </thead>\n",
       "  <tbody>\n",
       "    <tr>\n",
       "      <th>0</th>\n",
       "      <td>Lábrea</td>\n",
       "      <td>100</td>\n",
       "      <td>BR</td>\n",
       "      <td>1601501777</td>\n",
       "      <td>94</td>\n",
       "      <td>-7.26</td>\n",
       "      <td>-64.80</td>\n",
       "      <td>73.778</td>\n",
       "      <td>0.82</td>\n",
       "    </tr>\n",
       "    <tr>\n",
       "      <th>1</th>\n",
       "      <td>Rikitea</td>\n",
       "      <td>72</td>\n",
       "      <td>PF</td>\n",
       "      <td>1601501777</td>\n",
       "      <td>82</td>\n",
       "      <td>-23.12</td>\n",
       "      <td>-134.97</td>\n",
       "      <td>71.816</td>\n",
       "      <td>10.82</td>\n",
       "    </tr>\n",
       "    <tr>\n",
       "      <th>2</th>\n",
       "      <td>São Borja</td>\n",
       "      <td>4</td>\n",
       "      <td>BR</td>\n",
       "      <td>1601501777</td>\n",
       "      <td>46</td>\n",
       "      <td>-28.66</td>\n",
       "      <td>-56.00</td>\n",
       "      <td>85.370</td>\n",
       "      <td>2.23</td>\n",
       "    </tr>\n",
       "    <tr>\n",
       "      <th>3</th>\n",
       "      <td>Saint-Vallier</td>\n",
       "      <td>90</td>\n",
       "      <td>FR</td>\n",
       "      <td>1601501777</td>\n",
       "      <td>93</td>\n",
       "      <td>46.64</td>\n",
       "      <td>4.37</td>\n",
       "      <td>53.600</td>\n",
       "      <td>1.00</td>\n",
       "    </tr>\n",
       "    <tr>\n",
       "      <th>4</th>\n",
       "      <td>Barrow</td>\n",
       "      <td>90</td>\n",
       "      <td>US</td>\n",
       "      <td>1601501498</td>\n",
       "      <td>95</td>\n",
       "      <td>71.29</td>\n",
       "      <td>-156.79</td>\n",
       "      <td>32.000</td>\n",
       "      <td>8.20</td>\n",
       "    </tr>\n",
       "  </tbody>\n",
       "</table>\n",
       "</div>"
      ],
      "text/plain": [
       "            City  Cloudiness Country        Date  Humidity    Lat    Long  \\\n",
       "0         Lábrea         100      BR  1601501777        94  -7.26  -64.80   \n",
       "1        Rikitea          72      PF  1601501777        82 -23.12 -134.97   \n",
       "2      São Borja           4      BR  1601501777        46 -28.66  -56.00   \n",
       "3  Saint-Vallier          90      FR  1601501777        93  46.64    4.37   \n",
       "4         Barrow          90      US  1601501498        95  71.29 -156.79   \n",
       "\n",
       "   Max Temp  Wind Speed  \n",
       "0    73.778        0.82  \n",
       "1    71.816       10.82  \n",
       "2    85.370        2.23  \n",
       "3    53.600        1.00  \n",
       "4    32.000        8.20  "
      ]
     },
     "execution_count": 126,
     "metadata": {},
     "output_type": "execute_result"
    }
   ],
   "source": [
    "#convert temp to F\n",
    "max_temp = [((9/5)* (x-273.15)) + 32 for x in max_temp]\n",
    "\n",
    "\n",
    "\n",
    "#output file\n",
    "city_data_file = \"cities.csv\"\n",
    "\n",
    "city_df = pd.DataFrame({\n",
    "                            \"City\":city_list,\n",
    "                            \"Cloudiness\":cloudiness,\n",
    "                            \"Country\":country,\n",
    "                            \"Date\":date,\n",
    "                            \"Humidity\":humidity,\n",
    "                            \"Lat\":lat,\n",
    "                            \"Long\":long,\n",
    "                            \"Max Temp\":max_temp,\n",
    "                            \"Wind Speed\":wind_speed\n",
    "})\n",
    "\n",
    "#export to csv\n",
    "city_df.to_csv(\"cities.csv\")\n",
    "city_df.head()"
   ]
  },
  {
   "cell_type": "code",
   "execution_count": null,
   "metadata": {},
   "outputs": [],
   "source": []
  },
  {
   "cell_type": "markdown",
   "metadata": {},
   "source": [
    "## Inspect the data and remove the cities where the humidity > 100%.\n",
    "----\n",
    "Skip this step if there are no cities that have humidity > 100%. "
   ]
  },
  {
   "cell_type": "code",
   "execution_count": 6,
   "metadata": {
    "scrolled": true
   },
   "outputs": [
    {
     "data": {
      "text/html": [
       "<div>\n",
       "<style scoped>\n",
       "    .dataframe tbody tr th:only-of-type {\n",
       "        vertical-align: middle;\n",
       "    }\n",
       "\n",
       "    .dataframe tbody tr th {\n",
       "        vertical-align: top;\n",
       "    }\n",
       "\n",
       "    .dataframe thead th {\n",
       "        text-align: right;\n",
       "    }\n",
       "</style>\n",
       "<table border=\"1\" class=\"dataframe\">\n",
       "  <thead>\n",
       "    <tr style=\"text-align: right;\">\n",
       "      <th></th>\n",
       "      <th>Lat</th>\n",
       "      <th>Lng</th>\n",
       "      <th>Max Temp</th>\n",
       "      <th>Humidity</th>\n",
       "      <th>Cloudiness</th>\n",
       "      <th>Wind Speed</th>\n",
       "      <th>Date</th>\n",
       "    </tr>\n",
       "  </thead>\n",
       "  <tbody>\n",
       "    <tr>\n",
       "      <th>count</th>\n",
       "      <td>550.000000</td>\n",
       "      <td>550.000000</td>\n",
       "      <td>550.000000</td>\n",
       "      <td>550.000000</td>\n",
       "      <td>550.000000</td>\n",
       "      <td>550.000000</td>\n",
       "      <td>5.500000e+02</td>\n",
       "    </tr>\n",
       "    <tr>\n",
       "      <th>mean</th>\n",
       "      <td>19.973545</td>\n",
       "      <td>17.124400</td>\n",
       "      <td>58.331400</td>\n",
       "      <td>67.890909</td>\n",
       "      <td>52.141818</td>\n",
       "      <td>8.544800</td>\n",
       "      <td>1.585764e+09</td>\n",
       "    </tr>\n",
       "    <tr>\n",
       "      <th>std</th>\n",
       "      <td>33.284840</td>\n",
       "      <td>91.595451</td>\n",
       "      <td>25.795297</td>\n",
       "      <td>20.864881</td>\n",
       "      <td>35.766469</td>\n",
       "      <td>6.078869</td>\n",
       "      <td>5.539674e+01</td>\n",
       "    </tr>\n",
       "    <tr>\n",
       "      <th>min</th>\n",
       "      <td>-54.800000</td>\n",
       "      <td>-179.170000</td>\n",
       "      <td>-11.340000</td>\n",
       "      <td>9.000000</td>\n",
       "      <td>0.000000</td>\n",
       "      <td>0.160000</td>\n",
       "      <td>1.585764e+09</td>\n",
       "    </tr>\n",
       "    <tr>\n",
       "      <th>25%</th>\n",
       "      <td>-8.077500</td>\n",
       "      <td>-64.627500</td>\n",
       "      <td>42.800000</td>\n",
       "      <td>55.000000</td>\n",
       "      <td>20.000000</td>\n",
       "      <td>4.525000</td>\n",
       "      <td>1.585764e+09</td>\n",
       "    </tr>\n",
       "    <tr>\n",
       "      <th>50%</th>\n",
       "      <td>23.630000</td>\n",
       "      <td>19.635000</td>\n",
       "      <td>64.940000</td>\n",
       "      <td>72.000000</td>\n",
       "      <td>57.000000</td>\n",
       "      <td>7.325000</td>\n",
       "      <td>1.585764e+09</td>\n",
       "    </tr>\n",
       "    <tr>\n",
       "      <th>75%</th>\n",
       "      <td>48.672500</td>\n",
       "      <td>97.350000</td>\n",
       "      <td>78.800000</td>\n",
       "      <td>83.000000</td>\n",
       "      <td>86.750000</td>\n",
       "      <td>11.410000</td>\n",
       "      <td>1.585764e+09</td>\n",
       "    </tr>\n",
       "    <tr>\n",
       "      <th>max</th>\n",
       "      <td>78.220000</td>\n",
       "      <td>179.320000</td>\n",
       "      <td>102.200000</td>\n",
       "      <td>100.000000</td>\n",
       "      <td>100.000000</td>\n",
       "      <td>46.080000</td>\n",
       "      <td>1.585764e+09</td>\n",
       "    </tr>\n",
       "  </tbody>\n",
       "</table>\n",
       "</div>"
      ],
      "text/plain": [
       "              Lat         Lng    Max Temp    Humidity  Cloudiness  Wind Speed  \\\n",
       "count  550.000000  550.000000  550.000000  550.000000  550.000000  550.000000   \n",
       "mean    19.973545   17.124400   58.331400   67.890909   52.141818    8.544800   \n",
       "std     33.284840   91.595451   25.795297   20.864881   35.766469    6.078869   \n",
       "min    -54.800000 -179.170000  -11.340000    9.000000    0.000000    0.160000   \n",
       "25%     -8.077500  -64.627500   42.800000   55.000000   20.000000    4.525000   \n",
       "50%     23.630000   19.635000   64.940000   72.000000   57.000000    7.325000   \n",
       "75%     48.672500   97.350000   78.800000   83.000000   86.750000   11.410000   \n",
       "max     78.220000  179.320000  102.200000  100.000000  100.000000   46.080000   \n",
       "\n",
       "               Date  \n",
       "count  5.500000e+02  \n",
       "mean   1.585764e+09  \n",
       "std    5.539674e+01  \n",
       "min    1.585764e+09  \n",
       "25%    1.585764e+09  \n",
       "50%    1.585764e+09  \n",
       "75%    1.585764e+09  \n",
       "max    1.585764e+09  "
      ]
     },
     "execution_count": 6,
     "metadata": {},
     "output_type": "execute_result"
    }
   ],
   "source": []
  },
  {
   "cell_type": "code",
   "execution_count": 17,
   "metadata": {},
   "outputs": [
    {
     "data": {
      "text/plain": [
       "Int64Index([], dtype='int64')"
      ]
     },
     "execution_count": 17,
     "metadata": {},
     "output_type": "execute_result"
    }
   ],
   "source": [
    "#  Get the indices of cities that have humidity over 100%.\n"
   ]
  },
  {
   "cell_type": "code",
   "execution_count": 19,
   "metadata": {},
   "outputs": [
    {
     "data": {
      "text/html": [
       "<div>\n",
       "<style scoped>\n",
       "    .dataframe tbody tr th:only-of-type {\n",
       "        vertical-align: middle;\n",
       "    }\n",
       "\n",
       "    .dataframe tbody tr th {\n",
       "        vertical-align: top;\n",
       "    }\n",
       "\n",
       "    .dataframe thead th {\n",
       "        text-align: right;\n",
       "    }\n",
       "</style>\n",
       "<table border=\"1\" class=\"dataframe\">\n",
       "  <thead>\n",
       "    <tr style=\"text-align: right;\">\n",
       "      <th></th>\n",
       "      <th>City</th>\n",
       "      <th>Lat</th>\n",
       "      <th>Lng</th>\n",
       "      <th>Max Temp</th>\n",
       "      <th>Humidity</th>\n",
       "      <th>Cloudiness</th>\n",
       "      <th>Wind Speed</th>\n",
       "      <th>Country</th>\n",
       "      <th>Date</th>\n",
       "    </tr>\n",
       "  </thead>\n",
       "  <tbody>\n",
       "    <tr>\n",
       "      <td>0</td>\n",
       "      <td>butaritari</td>\n",
       "      <td>3.07</td>\n",
       "      <td>172.79</td>\n",
       "      <td>83.32</td>\n",
       "      <td>74</td>\n",
       "      <td>84</td>\n",
       "      <td>10.42</td>\n",
       "      <td>KI</td>\n",
       "      <td>1593605283</td>\n",
       "    </tr>\n",
       "    <tr>\n",
       "      <td>1</td>\n",
       "      <td>yerbogachen</td>\n",
       "      <td>61.28</td>\n",
       "      <td>108.01</td>\n",
       "      <td>79.52</td>\n",
       "      <td>58</td>\n",
       "      <td>20</td>\n",
       "      <td>7.70</td>\n",
       "      <td>RU</td>\n",
       "      <td>1593605121</td>\n",
       "    </tr>\n",
       "    <tr>\n",
       "      <td>2</td>\n",
       "      <td>cape town</td>\n",
       "      <td>-33.93</td>\n",
       "      <td>18.42</td>\n",
       "      <td>73.00</td>\n",
       "      <td>77</td>\n",
       "      <td>27</td>\n",
       "      <td>4.70</td>\n",
       "      <td>ZA</td>\n",
       "      <td>1593605039</td>\n",
       "    </tr>\n",
       "    <tr>\n",
       "      <td>3</td>\n",
       "      <td>touba</td>\n",
       "      <td>8.28</td>\n",
       "      <td>-7.68</td>\n",
       "      <td>79.97</td>\n",
       "      <td>75</td>\n",
       "      <td>82</td>\n",
       "      <td>3.58</td>\n",
       "      <td>CI</td>\n",
       "      <td>1593605284</td>\n",
       "    </tr>\n",
       "    <tr>\n",
       "      <td>4</td>\n",
       "      <td>jamestown</td>\n",
       "      <td>42.10</td>\n",
       "      <td>-79.24</td>\n",
       "      <td>64.00</td>\n",
       "      <td>88</td>\n",
       "      <td>1</td>\n",
       "      <td>6.93</td>\n",
       "      <td>US</td>\n",
       "      <td>1593605284</td>\n",
       "    </tr>\n",
       "  </tbody>\n",
       "</table>\n",
       "</div>"
      ],
      "text/plain": [
       "          City    Lat     Lng  Max Temp  Humidity  Cloudiness  Wind Speed  \\\n",
       "0   butaritari   3.07  172.79     83.32        74          84       10.42   \n",
       "1  yerbogachen  61.28  108.01     79.52        58          20        7.70   \n",
       "2    cape town -33.93   18.42     73.00        77          27        4.70   \n",
       "3        touba   8.28   -7.68     79.97        75          82        3.58   \n",
       "4    jamestown  42.10  -79.24     64.00        88           1        6.93   \n",
       "\n",
       "  Country        Date  \n",
       "0      KI  1593605283  \n",
       "1      RU  1593605121  \n",
       "2      ZA  1593605039  \n",
       "3      CI  1593605284  \n",
       "4      US  1593605284  "
      ]
     },
     "execution_count": 19,
     "metadata": {},
     "output_type": "execute_result"
    }
   ],
   "source": [
    "# Make a new DataFrame equal to the city data to drop all humidity outliers by index.\n",
    "# Passing \"inplace=False\" will make a copy of the city_data DataFrame, which we call \"clean_city_data\".\n"
   ]
  },
  {
   "cell_type": "code",
   "execution_count": null,
   "metadata": {},
   "outputs": [],
   "source": [
    "\n"
   ]
  },
  {
   "cell_type": "markdown",
   "metadata": {},
   "source": [
    "## Plotting the Data\n",
    "* Use proper labeling of the plots using plot titles (including date of analysis) and axes labels.\n",
    "* Save the plotted figures as .pngs."
   ]
  },
  {
   "cell_type": "markdown",
   "metadata": {},
   "source": [
    "## Latitude vs. Temperature Plot"
   ]
  },
  {
   "cell_type": "code",
   "execution_count": 132,
   "metadata": {
    "scrolled": true
   },
   "outputs": [
    {
     "data": {
      "image/png": "[encoded data removed]",
      "text/plain": [
       "<Figure size 432x288 with 1 Axes>"
      ]
     },
     "metadata": {
      "needs_background": "light"
     },
     "output_type": "display_data"
    }
   ],
   "source": [
    "\n",
    "fig, ax = plt.subplots()\n",
    "plt.xlabel('Latitude')\n",
    "plt.ylabel('Max Temperature (F)')\n",
    "ax.set_title('City Latitude vs. Max Temperature')\n",
    "ax.scatter(city_df['Lat'],city_df['Max Temp'],edgecolors='black')\n",
    "plt.grid()\n",
    "plt.savefig('lat_vs_max_temp.png')"
   ]
  },
  {
   "cell_type": "code",
   "execution_count": null,
   "metadata": {},
   "outputs": [],
   "source": [
    "#shows the heat along the lattitude of the earth\n",
    "#it is hottest along the equator and coolest at the ends of the earth"
   ]
  },
  {
   "cell_type": "markdown",
   "metadata": {},
   "source": [
    "## Latitude vs. Humidity Plot"
   ]
  },
  {
   "cell_type": "code",
   "execution_count": 133,
   "metadata": {},
   "outputs": [
    {
     "data": {
      "image/png": "[encoded data removed]",
      "text/plain": [
       "<Figure size 432x288 with 1 Axes>"
      ]
     },
     "metadata": {
      "needs_background": "light"
     },
     "output_type": "display_data"
    }
   ],
   "source": [
    "fig, ax = plt.subplots()\n",
    "plt.xlabel('Latitude')\n",
    "plt.ylabel('Humidity (%)')\n",
    "ax.set_title('City Latitude vs. Humidity')\n",
    "ax.scatter(city_df['Lat'],city_df['Humidity'],edgecolors='black')\n",
    "plt.grid()\n",
    "plt.savefig('lat_vs_humidity.png')"
   ]
  },
  {
   "cell_type": "code",
   "execution_count": null,
   "metadata": {},
   "outputs": [],
   "source": [
    "#Shows how humid it is across the lattitude;\n",
    "#the most humid areas appear to be at the equator and least humid its surrounding ranges"
   ]
  },
  {
   "cell_type": "markdown",
   "metadata": {},
   "source": [
    "## Latitude vs. Cloudiness Plot"
   ]
  },
  {
   "cell_type": "code",
   "execution_count": 134,
   "metadata": {},
   "outputs": [
    {
     "data": {
      "image/png": "[encoded data removed]",
      "text/plain": [
       "<Figure size 432x288 with 1 Axes>"
      ]
     },
     "metadata": {
      "needs_background": "light"
     },
     "output_type": "display_data"
    }
   ],
   "source": [
    "fig, ax = plt.subplots()\n",
    "plt.xlabel('Latitude')\n",
    "plt.ylabel('Cloudiness (%)')\n",
    "ax.set_title('City Latitude vs. Cloudiness')\n",
    "ax.scatter(city_df['Lat'],city_df['Cloudiness'],edgecolors='black')\n",
    "plt.grid()\n",
    "plt.savefig('lat_vs_cloudiness.png')"
   ]
  },
  {
   "cell_type": "code",
   "execution_count": null,
   "metadata": {},
   "outputs": [],
   "source": [
    "#attempting ot see where cloudiness is relative to lattitude;\n",
    "#it appears that it there are few cities around the 0-20 lattitude range that have 0% cloudiness"
   ]
  },
  {
   "cell_type": "markdown",
   "metadata": {},
   "source": [
    "## Latitude vs. Wind Speed Plot"
   ]
  },
  {
   "cell_type": "code",
   "execution_count": 135,
   "metadata": {},
   "outputs": [
    {
     "data": {
      "image/png": "[encoded data removed]",
      "text/plain": [
       "<Figure size 432x288 with 1 Axes>"
      ]
     },
     "metadata": {
      "needs_background": "light"
     },
     "output_type": "display_data"
    }
   ],
   "source": [
    "\n",
    "fig, ax = plt.subplots()\n",
    "plt.xlabel('Latitude')\n",
    "plt.ylabel('Wind Speed (mph)')\n",
    "ax.set_title('City Latitude vs. Wind Speed')\n",
    "ax.scatter(city_df['Lat'],city_df['Wind Speed'],edgecolors='black')\n",
    "plt.grid()\n",
    "plt.savefig('lat_vs_wind_speed.png')\n",
    "\n",
    "\n"
   ]
  },
  {
   "cell_type": "code",
   "execution_count": null,
   "metadata": {},
   "outputs": [],
   "source": [
    "#Looking to see if windspeed is higher at certain lattitudes; \n",
    "#it r it does appear there are higher windspeeds towards the extremes of each lattitude"
   ]
  },
  {
   "cell_type": "markdown",
   "metadata": {},
   "source": [
    "## Linear Regression"
   ]
  },
  {
   "cell_type": "code",
   "execution_count": 136,
   "metadata": {},
   "outputs": [
    {
     "data": {
      "text/html": [
       "<div>\n",
       "<style scoped>\n",
       "    .dataframe tbody tr th:only-of-type {\n",
       "        vertical-align: middle;\n",
       "    }\n",
       "\n",
       "    .dataframe tbody tr th {\n",
       "        vertical-align: top;\n",
       "    }\n",
       "\n",
       "    .dataframe thead th {\n",
       "        text-align: right;\n",
       "    }\n",
       "</style>\n",
       "<table border=\"1\" class=\"dataframe\">\n",
       "  <thead>\n",
       "    <tr style=\"text-align: right;\">\n",
       "      <th></th>\n",
       "      <th>City</th>\n",
       "      <th>Cloudiness</th>\n",
       "      <th>Country</th>\n",
       "      <th>Date</th>\n",
       "      <th>Humidity</th>\n",
       "      <th>Lat</th>\n",
       "      <th>Long</th>\n",
       "      <th>Max Temp</th>\n",
       "      <th>Wind Speed</th>\n",
       "    </tr>\n",
       "  </thead>\n",
       "  <tbody>\n",
       "    <tr>\n",
       "      <th>3</th>\n",
       "      <td>Saint-Vallier</td>\n",
       "      <td>90</td>\n",
       "      <td>FR</td>\n",
       "      <td>1601501777</td>\n",
       "      <td>93</td>\n",
       "      <td>46.64</td>\n",
       "      <td>4.37</td>\n",
       "      <td>53.600</td>\n",
       "      <td>1.00</td>\n",
       "    </tr>\n",
       "    <tr>\n",
       "      <th>4</th>\n",
       "      <td>Barrow</td>\n",
       "      <td>90</td>\n",
       "      <td>US</td>\n",
       "      <td>1601501498</td>\n",
       "      <td>95</td>\n",
       "      <td>71.29</td>\n",
       "      <td>-156.79</td>\n",
       "      <td>32.000</td>\n",
       "      <td>8.20</td>\n",
       "    </tr>\n",
       "    <tr>\n",
       "      <th>8</th>\n",
       "      <td>Riyadh</td>\n",
       "      <td>0</td>\n",
       "      <td>SA</td>\n",
       "      <td>1601501779</td>\n",
       "      <td>27</td>\n",
       "      <td>24.69</td>\n",
       "      <td>46.72</td>\n",
       "      <td>78.800</td>\n",
       "      <td>3.10</td>\n",
       "    </tr>\n",
       "    <tr>\n",
       "      <th>9</th>\n",
       "      <td>Upernavik</td>\n",
       "      <td>65</td>\n",
       "      <td>GL</td>\n",
       "      <td>1601501779</td>\n",
       "      <td>91</td>\n",
       "      <td>72.79</td>\n",
       "      <td>-56.15</td>\n",
       "      <td>24.692</td>\n",
       "      <td>2.95</td>\n",
       "    </tr>\n",
       "    <tr>\n",
       "      <th>11</th>\n",
       "      <td>Hong Kong</td>\n",
       "      <td>100</td>\n",
       "      <td>HK</td>\n",
       "      <td>1601501619</td>\n",
       "      <td>84</td>\n",
       "      <td>22.29</td>\n",
       "      <td>114.16</td>\n",
       "      <td>78.998</td>\n",
       "      <td>0.45</td>\n",
       "    </tr>\n",
       "  </tbody>\n",
       "</table>\n",
       "</div>"
      ],
      "text/plain": [
       "             City  Cloudiness Country        Date  Humidity    Lat    Long  \\\n",
       "3   Saint-Vallier          90      FR  1601501777        93  46.64    4.37   \n",
       "4          Barrow          90      US  1601501498        95  71.29 -156.79   \n",
       "8          Riyadh           0      SA  1601501779        27  24.69   46.72   \n",
       "9       Upernavik          65      GL  1601501779        91  72.79  -56.15   \n",
       "11      Hong Kong         100      HK  1601501619        84  22.29  114.16   \n",
       "\n",
       "    Max Temp  Wind Speed  \n",
       "3     53.600        1.00  \n",
       "4     32.000        8.20  \n",
       "8     78.800        3.10  \n",
       "9     24.692        2.95  \n",
       "11    78.998        0.45  "
      ]
     },
     "execution_count": 136,
     "metadata": {},
     "output_type": "execute_result"
    }
   ],
   "source": [
    "#seperate NH and SH into DF\n",
    "\n",
    "\n",
    "n_hem = city_df.loc[city_df[\"Lat\"]>0.01]\n",
    "s_hem = city_df.loc[city_df[\"Lat\"]<-0.01]\n",
    "\n",
    "n_hem.head()"
   ]
  },
  {
   "cell_type": "markdown",
   "metadata": {},
   "source": [
    "####  Northern Hemisphere - Max Temp vs. Latitude Linear Regression"
   ]
  },
  {
   "cell_type": "code",
   "execution_count": 161,
   "metadata": {},
   "outputs": [
    {
     "name": "stdout",
     "output_type": "stream",
     "text": [
      "The R Value is -0.7758560709081975\n"
     ]
    },
    {
     "data": {
      "image/png": "[encoded data removed]",
      "text/plain": [
       "<Figure size 432x288 with 1 Axes>"
      ]
     },
     "metadata": {
      "needs_background": "light"
     },
     "output_type": "display_data"
    }
   ],
   "source": [
    "\n",
    "\n",
    "#Create a Scatter Plot for Lat vs Temp of City\n",
    "x_values = n_hem['Lat']\n",
    "y_values = n_hem['Max Temp']\n",
    "(slope, intercept, rvalue, pvalue, stderr) = linregress(x_values, y_values)\n",
    "regress_values = x_values * slope + intercept\n",
    "line_eq = \"y = \" + str(round(slope,2)) + \"x + \" + str(round(intercept,2))\n",
    "plt.scatter(x_values,y_values)\n",
    "plt.plot(x_values,regress_values,\"red\")\n",
    "plt.annotate(line_eq,(5,10),fontsize=15,color=\"red\")\n",
    "\n",
    "plt.ylim(0,100)\n",
    "plt.xlim(0, 80)\n",
    "\n",
    "plt.ylabel(\"Max. Temp\")\n",
    "plt.xlabel(\"Latitude\")\n",
    "# plt.show()\n",
    "\n",
    "print(f\"The R Value is {rvalue}\")\n",
    "\n",
    "plt.savefig(\"Northern Hemisphere Max Tempurature VS Latitude Regression.png\")\n",
    "\n",
    "\n",
    "\n",
    "\n",
    "\n",
    "\n",
    "\n"
   ]
  },
  {
   "cell_type": "markdown",
   "metadata": {},
   "source": [
    "####  Southern Hemisphere - Max Temp vs. Latitude Linear Regression"
   ]
  },
  {
   "cell_type": "code",
   "execution_count": 162,
   "metadata": {},
   "outputs": [
    {
     "name": "stdout",
     "output_type": "stream",
     "text": [
      "The R Value is 0.6155415316287373\n"
     ]
    },
    {
     "data": {
      "image/png": "[encoded data removed]",
      "text/plain": [
       "<Figure size 432x288 with 1 Axes>"
      ]
     },
     "metadata": {
      "needs_background": "light"
     },
     "output_type": "display_data"
    }
   ],
   "source": [
    "#Create a Scatter Plot for Lattitude vs Temperature of City (Southern Hemisphere)\n",
    "x_values = s_hem['Lat']\n",
    "y_values = s_hem['Max Temp']\n",
    "(slope, intercept, rvalue, pvalue, stderr) = linregress(x_values, y_values)\n",
    "regress_values = x_values * slope + intercept\n",
    "line_eq = \"y = \" + str(round(slope,2)) + \"x + \" + str(round(intercept,2))\n",
    "plt.scatter(x_values,y_values)\n",
    "plt.plot(x_values,regress_values,\"r-\")\n",
    "plt.annotate(line_eq,(5,10),fontsize=15,color=\"red\")\n",
    "\n",
    "plt.ylim(30, 100)\n",
    "plt.xlim(-60, 0, 10)\n",
    "\n",
    "plt.ylabel(\"Max. Temp\")\n",
    "plt.xlabel(\"Latitude\")\n",
    "# plt.show()\n",
    "\n",
    "print(f\"The R Value is {rvalue}\")\n",
    "\n",
    "plt.savefig(\"Southern Hemisphere Max Tempurature VS Latitidue Regression.png\")\n"
   ]
  },
  {
   "cell_type": "code",
   "execution_count": null,
   "metadata": {},
   "outputs": [],
   "source": [
    "# the linear regression is modeling the correlation between highest tempuratures as you from north to outh poles\n",
    "\n",
    "#The tempurature visibly increases as it reached the equator of 0 latitude; \n",
    "#the slope appears to be more aggressive in the northern hemisphere as it reaches lower tempurates at end of the latitude"
   ]
  },
  {
   "cell_type": "markdown",
   "metadata": {},
   "source": [
    "####  Northern Hemisphere - Humidity (%) vs. Latitude Linear Regression"
   ]
  },
  {
   "cell_type": "code",
   "execution_count": 163,
   "metadata": {},
   "outputs": [
    {
     "name": "stdout",
     "output_type": "stream",
     "text": [
      "The R Value is 0.16218135877002618\n"
     ]
    },
    {
     "data": {
      "image/png": "[encoded data removed]",
      "text/plain": [
       "<Figure size 432x288 with 1 Axes>"
      ]
     },
     "metadata": {
      "needs_background": "light"
     },
     "output_type": "display_data"
    }
   ],
   "source": [
    "x_values = n_hem['Lat']\n",
    "y_values = n_hem['Humidity']\n",
    "(slope, intercept, rvalue, pvalue, stderr) = linregress(x_values, y_values)\n",
    "regress_values = x_values * slope + intercept\n",
    "line_eq = \"y = \" + str(round(slope,2)) + \"x + \" + str(round(intercept,2))\n",
    "plt.scatter(x_values,y_values)\n",
    "plt.plot(x_values,regress_values,\"r-\")\n",
    "plt.annotate(line_eq,(-25,10),fontsize=15,color=\"red\")\n",
    "\n",
    "plt.ylim(0, 100)\n",
    "\n",
    "plt.ylabel(\"Humidity\")\n",
    "plt.xlabel(\"Latitude\")\n",
    "# plt.show()\n",
    "\n",
    "print(f\"The R Value is {rvalue}\")\n",
    "\n",
    "plt.savefig(\"Northern Hemisphere Humidity VS Latitude.png\")"
   ]
  },
  {
   "cell_type": "markdown",
   "metadata": {},
   "source": [
    "####  Southern Hemisphere - Humidity (%) vs. Latitude Linear Regression"
   ]
  },
  {
   "cell_type": "code",
   "execution_count": 164,
   "metadata": {},
   "outputs": [
    {
     "name": "stdout",
     "output_type": "stream",
     "text": [
      "The R Value is 0.08953891352430914\n"
     ]
    },
    {
     "data": {
      "image/png": "[encoded data removed]",
      "text/plain": [
       "<Figure size 432x288 with 1 Axes>"
      ]
     },
     "metadata": {
      "needs_background": "light"
     },
     "output_type": "display_data"
    }
   ],
   "source": [
    "x_values = s_hem['Lat']\n",
    "y_values = s_hem['Humidity']\n",
    "(slope, intercept, rvalue, pvalue, stderr) = linregress(x_values, y_values)\n",
    "regress_values = x_values * slope + intercept\n",
    "line_eq = \"y = \" + str(round(slope,2)) + \"x + \" + str(round(intercept,2))\n",
    "plt.scatter(x_values,y_values)\n",
    "plt.plot(x_values,regress_values,\"r-\")\n",
    "plt.annotate(line_eq,(-25,10),fontsize=15,color=\"red\")\n",
    "\n",
    "plt.ylim(0, 100)\n",
    "\n",
    "plt.ylabel(\"Humidity\")\n",
    "plt.xlabel(\"Latitude\")\n",
    "# plt.show()\n",
    "\n",
    "print(f\"The R Value is {rvalue}\")\n",
    "\n",
    "plt.savefig(\"Southern Hemisphere Humidity VS Latitude.png\")"
   ]
  },
  {
   "cell_type": "code",
   "execution_count": null,
   "metadata": {},
   "outputs": [],
   "source": [
    "# the linear regression is modeling the correlation between levels of humidity as you from north to outh poles\n",
    "\n",
    "\n",
    "#humidity appears to slightly increase as you moved from negative latitude to 80 which is the south pole"
   ]
  },
  {
   "cell_type": "markdown",
   "metadata": {},
   "source": [
    "####  Northern Hemisphere - Cloudiness (%) vs. Latitude Linear Regression"
   ]
  },
  {
   "cell_type": "code",
   "execution_count": 165,
   "metadata": {},
   "outputs": [
    {
     "name": "stdout",
     "output_type": "stream",
     "text": [
      "The R Value is 0.08114869347350541\n"
     ]
    },
    {
     "data": {
      "image/png": "[encoded data removed]",
      "text/plain": [
       "<Figure size 432x288 with 1 Axes>"
      ]
     },
     "metadata": {
      "needs_background": "light"
     },
     "output_type": "display_data"
    }
   ],
   "source": [
    "x_values = n_hem['Lat']\n",
    "y_values = n_hem['Cloudiness']\n",
    "(slope, intercept, rvalue, pvalue, stderr) = linregress(x_values, y_values)\n",
    "regress_values = x_values * slope + intercept\n",
    "line_eq = \"y = \" + str(round(slope,2)) + \"x + \" + str(round(intercept,2))\n",
    "plt.scatter(x_values,y_values)\n",
    "plt.plot(x_values,regress_values,\"r-\")\n",
    "plt.annotate(line_eq,(8,10),fontsize=15,color=\"red\")\n",
    "\n",
    "plt.ylim(0, 100)\n",
    "\n",
    "plt.ylabel(\"Cloudiness\")\n",
    "plt.xlabel(\"Latitude\")\n",
    "# plt.show()\n",
    "\n",
    "print(f\"The R Value is {rvalue}\")\n",
    "\n",
    "plt.savefig(\"Northern Hemisphere Cloudiness VS Latitude.png\")"
   ]
  },
  {
   "cell_type": "markdown",
   "metadata": {},
   "source": [
    "####  Southern Hemisphere - Cloudiness (%) vs. Latitude Linear Regression"
   ]
  },
  {
   "cell_type": "code",
   "execution_count": 166,
   "metadata": {
    "scrolled": true
   },
   "outputs": [
    {
     "name": "stdout",
     "output_type": "stream",
     "text": [
      "The R Value is 0.03809733122893025\n"
     ]
    },
    {
     "data": {
      "image/png": "[encoded data removed]",
      "text/plain": [
       "<Figure size 432x288 with 1 Axes>"
      ]
     },
     "metadata": {
      "needs_background": "light"
     },
     "output_type": "display_data"
    }
   ],
   "source": [
    "x_values = s_hem['Lat']\n",
    "y_values = s_hem['Cloudiness']\n",
    "(slope, intercept, rvalue, pvalue, stderr) = linregress(x_values, y_values)\n",
    "regress_values = x_values * slope + intercept\n",
    "line_eq = \"y = \" + str(round(slope,2)) + \"x + \" + str(round(intercept,2))\n",
    "plt.scatter(x_values,y_values)\n",
    "plt.plot(x_values,regress_values,\"r-\")\n",
    "plt.annotate(line_eq,(8,10),fontsize=15,color=\"red\")\n",
    "\n",
    "plt.ylim(0, 100)\n",
    "\n",
    "plt.ylabel(\"Cloudiness\")\n",
    "plt.xlabel(\"Latitude\")\n",
    "# plt.show()\n",
    "\n",
    "print(f\"The R Value is {rvalue}\")\n",
    "\n",
    "plt.savefig(\"Southern Hemisphere Cloudiness VS Latitude.png\")"
   ]
  },
  {
   "cell_type": "code",
   "execution_count": null,
   "metadata": {},
   "outputs": [],
   "source": [
    "# the linear regression is modeling the correlation between levels of cloudiness as you from north to outh poles\n",
    "#it appears that the cloudiness also increases slightly from the norther pol to the south pole"
   ]
  },
  {
   "cell_type": "markdown",
   "metadata": {},
   "source": [
    "####  Northern Hemisphere - Wind Speed (mph) vs. Latitude Linear Regression"
   ]
  },
  {
   "cell_type": "code",
   "execution_count": 167,
   "metadata": {},
   "outputs": [
    {
     "name": "stdout",
     "output_type": "stream",
     "text": [
      "The R Value is 0.11279547389386886\n"
     ]
    },
    {
     "data": {
      "image/png": "[encoded data removed]",
      "text/plain": [
       "<Figure size 432x288 with 1 Axes>"
      ]
     },
     "metadata": {
      "needs_background": "light"
     },
     "output_type": "display_data"
    }
   ],
   "source": [
    "x_values = n_hem['Lat']\n",
    "y_values = n_hem['Wind Speed']\n",
    "(slope, intercept, rvalue, pvalue, stderr) = linregress(x_values, y_values)\n",
    "regress_values = x_values * slope + intercept\n",
    "line_eq = \"y = \" + str(round(slope,2)) + \"x + \" + str(round(intercept,2))\n",
    "plt.scatter(x_values,y_values)\n",
    "plt.plot(x_values,regress_values,\"r-\")\n",
    "plt.annotate(line_eq,(50,20),fontsize=15,color=\"red\")\n",
    "\n",
    "plt.ylim(0, 20)\n",
    "\n",
    "plt.ylabel(\"Windspeed\")\n",
    "plt.xlabel(\"Latitude\")\n",
    "# plt.show()\n",
    "\n",
    "print(f\"The R Value is {rvalue}\")\n",
    "\n",
    "plt.savefig(\"Northern Hemisphere Windspeed VS Latitude.png\")"
   ]
  },
  {
   "cell_type": "markdown",
   "metadata": {},
   "source": [
    "####  Southern Hemisphere - Wind Speed (mph) vs. Latitude Linear Regression"
   ]
  },
  {
   "cell_type": "code",
   "execution_count": 168,
   "metadata": {},
   "outputs": [
    {
     "name": "stdout",
     "output_type": "stream",
     "text": [
      "The R Value is -0.2983804566445831\n"
     ]
    },
    {
     "data": {
      "image/png": "[encoded data removed]",
      "text/plain": [
       "<Figure size 432x288 with 1 Axes>"
      ]
     },
     "metadata": {
      "needs_background": "light"
     },
     "output_type": "display_data"
    }
   ],
   "source": [
    "x_values = s_hem['Lat']\n",
    "y_values = s_hem['Wind Speed']\n",
    "(slope, intercept, rvalue, pvalue, stderr) = linregress(x_values, y_values)\n",
    "regress_values = x_values * slope + intercept\n",
    "line_eq = \"y = \" + str(round(slope,2)) + \"x + \" + str(round(intercept,2))\n",
    "plt.scatter(x_values,y_values)\n",
    "plt.plot(x_values,regress_values,\"r-\")\n",
    "plt.annotate(line_eq,(50,20),fontsize=15,color=\"red\")\n",
    "\n",
    "plt.ylim(0, 20)\n",
    "\n",
    "plt.ylabel(\"Windspeed\")\n",
    "plt.xlabel(\"Latitude\")\n",
    "# plt.show()\n",
    "\n",
    "print(f\"The R Value is {rvalue}\")\n",
    "\n",
    "plt.savefig(\"Southern Hemisphere Windspeed VS Latitude.png\")"
   ]
  },
  {
   "cell_type": "code",
   "execution_count": null,
   "metadata": {},
   "outputs": [],
   "source": [
    "# the linear regression is modeling the correlation between levels of wind speed as you from north to outh poles\n",
    "\n",
    "#wind speed appears to be highest in the north pole area and reduce at it hits the equator and increases as it moves to the south pole\n"
   ]
  }
 ],
 "metadata": {
  "anaconda-cloud": {},
  "kernel_info": {
   "name": "python3"
  },
  "kernelspec": {
   "display_name": "Python 3",
   "language": "python",
   "name": "python3"
  },
  "language_info": {
   "codemirror_mode": {
    "name": "ipython",
    "version": 3
   },
   "file_extension": ".py",
   "mimetype": "text/x-python",
   "name": "python",
   "nbconvert_exporter": "python",
   "pygments_lexer": "ipython3",
   "version": "3.8.3"
  },
  "latex_envs": {
   "LaTeX_envs_menu_present": true,
   "autoclose": false,
   "autocomplete": true,
   "bibliofile": "biblio.bib",
   "cite_by": "apalike",
   "current_citInitial": 1,
   "eqLabelWithNumbers": true,
   "eqNumInitial": 1,
   "hotkeys": {
    "equation": "Ctrl-E",
    "itemize": "Ctrl-I"
   },
   "labels_anchors": false,
   "latex_user_defs": false,
   "report_style_numbering": false,
   "user_envs_cfg": false
  },
  "nteract": {
   "version": "0.12.3"
  }
 },
 "nbformat": 4,
 "nbformat_minor": 2
}
